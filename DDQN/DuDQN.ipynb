{
 "cells": [
  {
   "cell_type": "code",
   "execution_count": 1,
   "metadata": {},
   "outputs": [],
   "source": [
    "from mlagents_envs.environment import UnityEnvironment\n",
    "from mlagents_envs.side_channel.engine_configuration_channel import (\n",
    "    EngineConfigurationChannel,\n",
    ")\n",
    "from mlagents_envs.exception import (\n",
    "    UnityEnvironmentException,\n",
    "    UnityCommunicationException,\n",
    "    UnityCommunicatorStoppedException,\n",
    ")\n",
    "import numpy as np"
   ]
  },
  {
   "cell_type": "code",
   "execution_count": 2,
   "metadata": {},
   "outputs": [],
   "source": [
    "ENV_NAME = \"D:/Projects/UnityML/BoatEnv/MLAgent1\""
   ]
  },
  {
   "cell_type": "code",
   "execution_count": 3,
   "metadata": {},
   "outputs": [],
   "source": [
    "engine_config_channel = EngineConfigurationChannel()\n",
    "engine_config_channel.set_configuration_parameters(\n",
    "    width=1024, height=768, time_scale=1.0\n",
    ")\n",
    "env = UnityEnvironment(\n",
    "    file_name=ENV_NAME, seed=2, side_channels=[engine_config_channel]\n",
    ")\n",
    "env.reset()"
   ]
  },
  {
   "cell_type": "code",
   "execution_count": 268,
   "metadata": {},
   "outputs": [],
   "source": [
    "env.step()"
   ]
  },
  {
   "cell_type": "code",
   "execution_count": 278,
   "metadata": {},
   "outputs": [
    {
     "ename": "KeyError",
     "evalue": "0",
     "output_type": "error",
     "traceback": [
      "\u001b[1;31m---------------------------------------------------------------------------\u001b[0m",
      "\u001b[1;31mKeyError\u001b[0m                                  Traceback (most recent call last)",
      "Cell \u001b[1;32mIn [278], line 1\u001b[0m\n\u001b[1;32m----> 1\u001b[0m \u001b[43menv\u001b[49m\u001b[38;5;241;43m.\u001b[39;49m\u001b[43mbehavior_specs\u001b[49m\u001b[43m[\u001b[49m\u001b[38;5;241;43m0\u001b[39;49m\u001b[43m]\u001b[49m\n",
      "File \u001b[1;32mD:\\Projects\\UnityML\\venv\\lib\\site-packages\\mlagents_envs\\base_env.py:537\u001b[0m, in \u001b[0;36mBehaviorMapping.__getitem__\u001b[1;34m(self, behavior)\u001b[0m\n\u001b[0;32m    536\u001b[0m \u001b[38;5;28;01mdef\u001b[39;00m \u001b[38;5;21m__getitem__\u001b[39m(\u001b[38;5;28mself\u001b[39m, behavior: BehaviorName) \u001b[38;5;241m-\u001b[39m\u001b[38;5;241m>\u001b[39m BehaviorSpec:\n\u001b[1;32m--> 537\u001b[0m     \u001b[38;5;28;01mreturn\u001b[39;00m \u001b[38;5;28;43mself\u001b[39;49m\u001b[38;5;241;43m.\u001b[39;49m\u001b[43m_dict\u001b[49m\u001b[43m[\u001b[49m\u001b[43mbehavior\u001b[49m\u001b[43m]\u001b[49m\n",
      "\u001b[1;31mKeyError\u001b[0m: 0"
     ]
    }
   ],
   "source": [
    "env.behavior_specs[0]"
   ]
  },
  {
   "cell_type": "code",
   "execution_count": null,
   "metadata": {},
   "outputs": [],
   "source": [
    "behavior_name = env.behavior_specs()[0]\n",
    "behavior_spec = env.behavior_specs(behavior_name)\n",
    "n_actions = behavior_spec.action_size  # => 2\n",
    "state_dims = np.sum(behavior_spec.observation_shapes)  # total obs => 54\n",
    "\n",
    "# --- Env Spec ---\n",
    "if behavior_spec.is_action_continuous():\n",
    "    print(\"Action space is CONTINUOUS i.e {0, 0.1, 0.2}\")\n",
    "else:\n",
    "    print(\"Action space is DISCRETE i.e {0, 1, 2}\")\n",
    "    print(behavior_spec.discrete_action_branches)\n",
    "\n",
    "print(\"\\nbehavior_spec.observation_shapes :: \", end=\"\")\n",
    "print(behavior_spec.observation_shapes)"
   ]
  },
  {
   "cell_type": "code",
   "execution_count": null,
   "metadata": {},
   "outputs": [],
   "source": []
  },
  {
   "cell_type": "code",
   "execution_count": null,
   "metadata": {},
   "outputs": [],
   "source": []
  }
 ],
 "metadata": {
  "kernelspec": {
   "display_name": "Python 3 (ipykernel)",
   "language": "python",
   "name": "python3"
  },
  "language_info": {
   "codemirror_mode": {
    "name": "ipython",
    "version": 3
   },
   "file_extension": ".py",
   "mimetype": "text/x-python",
   "name": "python",
   "nbconvert_exporter": "python",
   "pygments_lexer": "ipython3",
   "version": "3.9.13"
  },
  "vscode": {
   "interpreter": {
    "hash": "427c727c4abb6dc79f65f092908a4464440a3eeee39b6a868afb36b850f8d9ed"
   }
  }
 },
 "nbformat": 4,
 "nbformat_minor": 2
}
