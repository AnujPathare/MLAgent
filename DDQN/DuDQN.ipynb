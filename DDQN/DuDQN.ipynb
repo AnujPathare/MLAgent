{
 "cells": [
  {
   "cell_type": "code",
   "execution_count": 1,
   "metadata": {},
   "outputs": [],
   "source": [
    "from mlagents_envs.environment import UnityEnvironment\n",
    "from mlagents_envs.side_channel.engine_configuration_channel import (\n",
    "    EngineConfigurationChannel,\n",
    ")\n",
    "from mlagents_envs.exception import (\n",
    "    UnityEnvironmentException,\n",
    "    UnityCommunicationException,\n",
    "    UnityCommunicatorStoppedException,\n",
    ")\n",
    "import numpy as np"
   ]
  },
  {
   "cell_type": "code",
   "execution_count": 2,
   "metadata": {},
   "outputs": [],
   "source": [
    "ENV_NAME = \"C:/Coding/UnityML/builds\""
   ]
  },
  {
   "cell_type": "code",
   "execution_count": 3,
   "metadata": {},
   "outputs": [],
   "source": [
    "engine_config_channel = EngineConfigurationChannel()\n",
    "engine_config_channel.set_configuration_parameters(\n",
    "    width=1024, height=768, time_scale=1.0\n",
    ")\n",
    "env = UnityEnvironment(\n",
    "    file_name=ENV_NAME, seed=2, side_channels=[engine_config_channel]\n",
    ")\n",
    "env.reset()"
   ]
  },
  {
   "cell_type": "code",
   "execution_count": 5,
   "metadata": {},
   "outputs": [],
   "source": [
    "env.step()"
   ]
  },
  {
   "cell_type": "code",
   "execution_count": 14,
   "metadata": {},
   "outputs": [],
   "source": [
    "behavior_names = env.behavior_specs.keys()"
   ]
  },
  {
   "cell_type": "code",
   "execution_count": 19,
   "metadata": {},
   "outputs": [
    {
     "ename": "AttributeError",
     "evalue": "'KeysView' object has no attribute 'keys'",
     "output_type": "error",
     "traceback": [
      "\u001b[1;31m---------------------------------------------------------------------------\u001b[0m",
      "\u001b[1;31mAttributeError\u001b[0m                            Traceback (most recent call last)",
      "Cell \u001b[1;32mIn [19], line 1\u001b[0m\n\u001b[1;32m----> 1\u001b[0m \u001b[38;5;28mprint\u001b[39m(\u001b[43mbehavior_names\u001b[49m\u001b[38;5;241;43m.\u001b[39;49m\u001b[43mkeys\u001b[49m())\n",
      "\u001b[1;31mAttributeError\u001b[0m: 'KeysView' object has no attribute 'keys'"
     ]
    }
   ],
   "source": [
    "print(behavior_names.keys())"
   ]
  },
  {
   "cell_type": "code",
   "execution_count": null,
   "metadata": {},
   "outputs": [],
   "source": [
    "behavior_name = env.behavior_specs()[0]\n",
    "behavior_spec = env.behavior_specs(behavior_name)\n",
    "n_actions = behavior_spec.action_size  # => 2\n",
    "state_dims = np.sum(behavior_spec.observation_shapes)  # total obs => 54\n",
    "\n",
    "# --- Env Spec ---\n",
    "if behavior_spec.is_action_continuous():\n",
    "    print(\"Action space is CONTINUOUS i.e {0, 0.1, 0.2}\")\n",
    "else:\n",
    "    print(\"Action space is DISCRETE i.e {0, 1, 2}\")\n",
    "    print(behavior_spec.discrete_action_branches)\n",
    "\n",
    "print(\"\\nbehavior_spec.observation_shapes :: \", end=\"\")\n",
    "print(behavior_spec.observation_shapes)"
   ]
  },
  {
   "cell_type": "code",
   "execution_count": null,
   "metadata": {},
   "outputs": [],
   "source": []
  },
  {
   "cell_type": "code",
   "execution_count": null,
   "metadata": {},
   "outputs": [],
   "source": []
  }
 ],
 "metadata": {
  "kernelspec": {
   "display_name": "Python 3 (ipykernel)",
   "language": "python",
   "name": "python3"
  },
  "vscode": {
   "interpreter": {
    "hash": "427c727c4abb6dc79f65f092908a4464440a3eeee39b6a868afb36b850f8d9ed"
   }
  }
 },
 "nbformat": 4,
 "nbformat_minor": 2
}
